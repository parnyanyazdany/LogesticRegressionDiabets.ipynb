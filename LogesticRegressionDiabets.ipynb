import numpy as np
import pandas as pd
from sklearn.model_selection import train_test_split
from sklearn.preprocessing import StandardScaler
from sklearn.metrics import accuracy_score
from sklearn.linear_model import LogisticRegression
from sklearn.linear_model import SGDClassifier
dataset= pd.read_csv("/content/drive/MyDrive/diabetes.csv")
zero_not_accepted=["Glucose","BloodPressure","SkinThickness","Insulin","BMI"]
for columns in zero_not_accepted:
  dataset[coloumn]=dataset[coloumn].replace(0,np.nan)
  mean=int(dataset[coloumn].mean(skipna=True))
  dataset[coloumn]=dataset[coloumn].replace(np.nan, mean)
x=dataset.iloc[:,:8]
y=dataset.iloc[:,8]
x_train, x_test, y_train, y_test=train_test_split(x,y,test_size=0.2, random_state=42)
sc_x= StandardScaler()
x_train= sc_x.fit_transform(x_train)
x_test= sc_x.transform(x_test)

clf= LogisticRegression()
clf.fit(x_train, y_train)
print(clf.intercept_)

acc= clf.score(x_test, y_test)
print("accuracy in score",acc*100)

prob=clf.predict_proba(x_test)
print(prob)
